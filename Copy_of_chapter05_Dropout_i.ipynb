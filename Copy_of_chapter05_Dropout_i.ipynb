{
  "cells": [
    {
      "cell_type": "markdown",
      "metadata": {
        "id": "view-in-github",
        "colab_type": "text"
      },
      "source": [
        "<a href=\"https://colab.research.google.com/github/SuperChicken566/ADL22/blob/main/Copy_of_chapter05_Dropout_i.ipynb\" target=\"_parent\"><img src=\"https://colab.research.google.com/assets/colab-badge.svg\" alt=\"Open In Colab\"/></a>"
      ]
    },
    {
      "cell_type": "markdown",
      "metadata": {
        "id": "uk7TJEJMaXMs"
      },
      "source": [
        "This is a companion notebook for the book [Deep Learning with Python, Second Edition](https://www.manning.com/books/deep-learning-with-python-second-edition?a_aid=keras&a_bid=76564dff). For readability, it only contains runnable code blocks and section titles, and omits everything else in the book: text paragraphs, figures, and pseudocode.\n",
        "\n",
        "**If you want to be able to follow what's going on, I recommend reading the notebook side by side with your copy of the book.**\n",
        "\n",
        "This notebook was generated for TensorFlow 2.6."
      ]
    },
    {
      "cell_type": "code",
      "source": [
        ""
      ],
      "metadata": {
        "id": "E19PxAejMmEp"
      },
      "execution_count": null,
      "outputs": []
    },
    {
      "cell_type": "markdown",
      "metadata": {
        "id": "gDlLYLiGaXMu"
      },
      "source": [
        "# Getting started with neural networks: Classification and regression"
      ]
    },
    {
      "cell_type": "markdown",
      "metadata": {
        "id": "0I2pUD5VaXMv"
      },
      "source": [
        "## Classifying movie reviews: A binary classification example"
      ]
    },
    {
      "cell_type": "markdown",
      "metadata": {
        "id": "ca9MsTXXaXMv"
      },
      "source": [
        "### The IMDB dataset"
      ]
    },
    {
      "cell_type": "markdown",
      "metadata": {
        "id": "3SuFSe1RaXMw"
      },
      "source": [
        "**Loading the IMDB dataset**\n",
        "\n",
        "A set of 50,000 highly polarized reviews from the Internet Movie Database. They’re split into 25,000 reviews for training and 25,000 reviews for testing, each set consisting of 50% negative and 50% positive reviews.\n",
        "\n",
        "the reviews (sequences of words) have been turned into sequences of integers, where each integer stands for a specific word in a dictionary. This enables us to focus on model building, training, and evaluation. \n"
      ]
    },
    {
      "cell_type": "code",
      "execution_count": 1,
      "metadata": {
        "id": "X-xAOx2qaXMw",
        "colab": {
          "base_uri": "https://localhost:8080/"
        },
        "outputId": "1af7e2c5-a960-4fa8-836c-87d7e3977c26"
      },
      "outputs": [
        {
          "output_type": "stream",
          "name": "stdout",
          "text": [
            "Downloading data from https://storage.googleapis.com/tensorflow/tf-keras-datasets/imdb.npz\n",
            "17465344/17464789 [==============================] - 0s 0us/step\n",
            "17473536/17464789 [==============================] - 0s 0us/step\n"
          ]
        }
      ],
      "source": [
        "from tensorflow.keras.datasets import imdb\n",
        "(train_data, train_labels), (test_data, test_labels) = imdb.load_data(\n",
        "    num_words=10000)\n",
        "# only keep the top 10,000 most frequently occurring words in the training data. (out of ~90k)"
      ]
    },
    {
      "cell_type": "code",
      "source": [
        "print(len(train_data), len(test_data))"
      ],
      "metadata": {
        "colab": {
          "base_uri": "https://localhost:8080/"
        },
        "id": "SUhzr_9Cr_Gi",
        "outputId": "54bdadfc-0202-43dc-c2a3-587114e1e8c2"
      },
      "execution_count": 2,
      "outputs": [
        {
          "output_type": "stream",
          "name": "stdout",
          "text": [
            "25000 25000\n"
          ]
        }
      ]
    },
    {
      "cell_type": "code",
      "execution_count": 3,
      "metadata": {
        "id": "hwNHFlJsaXMx",
        "colab": {
          "base_uri": "https://localhost:8080/"
        },
        "outputId": "790a5ffd-e283-4cc0-89c9-95eea1c99e37"
      },
      "outputs": [
        {
          "output_type": "execute_result",
          "data": {
            "text/plain": [
              "[1, 14, 22, 16, 43, 530, 973, 1622, 1385, 65, 458]"
            ]
          },
          "metadata": {},
          "execution_count": 3
        }
      ],
      "source": [
        "train_data[0][:11] #coded first 11 words of the Review #0"
      ]
    },
    {
      "cell_type": "markdown",
      "source": [
        "The variables train_data and test_data are lists of reviews; each review is a list of word indices (encoding a sequence of words). \n",
        "\n",
        "train_labels and test_labels are lists of 0s and 1s, where 0 stands for negative and 1 stands for positive:"
      ],
      "metadata": {
        "id": "ny_3Rqh1Wdx2"
      }
    },
    {
      "cell_type": "code",
      "execution_count": 4,
      "metadata": {
        "id": "OJC359JfaXMx",
        "colab": {
          "base_uri": "https://localhost:8080/"
        },
        "outputId": "9d8f5d37-1352-4da3-ecf7-dd1a0cca00e7"
      },
      "outputs": [
        {
          "output_type": "execute_result",
          "data": {
            "text/plain": [
              "1"
            ]
          },
          "metadata": {},
          "execution_count": 4
        }
      ],
      "source": [
        "train_labels[0]"
      ]
    },
    {
      "cell_type": "code",
      "execution_count": 5,
      "metadata": {
        "id": "z45q1DrCaXMy",
        "colab": {
          "base_uri": "https://localhost:8080/"
        },
        "outputId": "c47a1bb9-8121-4987-ac9c-14d3166c187e"
      },
      "outputs": [
        {
          "output_type": "execute_result",
          "data": {
            "text/plain": [
              "9999"
            ]
          },
          "metadata": {},
          "execution_count": 5
        }
      ],
      "source": [
        "max([max(sequence) for sequence in train_data]) #top 10k words"
      ]
    },
    {
      "cell_type": "markdown",
      "metadata": {
        "id": "NcA7SmQlaXMy"
      },
      "source": [
        "**Decoding reviews back to text**\n",
        "\n",
        "Words are indexed by overall frequency in the dataset, so that for instance the integer \"3\" encodes the 3rd most frequent word in the data.\n",
        "\n",
        "We can go back and forth between \"3\" and associated word or vice versa! "
      ]
    },
    {
      "cell_type": "code",
      "execution_count": 6,
      "metadata": {
        "id": "vecKfBLcaXMy",
        "colab": {
          "base_uri": "https://localhost:8080/"
        },
        "outputId": "56365926-0a11-4286-f9bc-1316e4db7ad1"
      },
      "outputs": [
        {
          "output_type": "stream",
          "name": "stdout",
          "text": [
            "Downloading data from https://storage.googleapis.com/tensorflow/tf-keras-datasets/imdb_word_index.json\n",
            "1646592/1641221 [==============================] - 0s 0us/step\n",
            "1654784/1641221 [==============================] - 0s 0us/step\n"
          ]
        }
      ],
      "source": [
        "word_index = imdb.get_word_index()\n",
        "reverse_word_index = dict(\n",
        "    [(value, key) for (key, value) in word_index.items()])\n"
      ]
    },
    {
      "cell_type": "code",
      "source": [
        "#decode integers back to words\n",
        "for i in train_data[0][:11]:\n",
        "  print(i, reverse_word_index.get(i-3, \"?\"))"
      ],
      "metadata": {
        "colab": {
          "base_uri": "https://localhost:8080/"
        },
        "id": "SeABDaTLYiUA",
        "outputId": "86e93da5-72d0-4142-aa89-fcf022b02fc1"
      },
      "execution_count": 7,
      "outputs": [
        {
          "output_type": "stream",
          "name": "stdout",
          "text": [
            "1 ?\n",
            "14 this\n",
            "22 film\n",
            "16 was\n",
            "43 just\n",
            "530 brilliant\n",
            "973 casting\n",
            "1622 location\n",
            "1385 scenery\n",
            "65 story\n",
            "458 direction\n"
          ]
        }
      ]
    },
    {
      "cell_type": "code",
      "source": [
        "decoded_review = \" \".join(\n",
        "    [reverse_word_index.get(i - 3, \"?\") for i in train_data[0]])\n",
        "\n",
        "decoded_review"
      ],
      "metadata": {
        "id": "WOjoabaSY_Ub",
        "colab": {
          "base_uri": "https://localhost:8080/",
          "height": 105
        },
        "outputId": "89771abb-178b-406c-820d-85e6e0ddd5dd"
      },
      "execution_count": 8,
      "outputs": [
        {
          "output_type": "execute_result",
          "data": {
            "text/plain": [
              "\"? this film was just brilliant casting location scenery story direction everyone's really suited the part they played and you could just imagine being there robert ? is an amazing actor and now the same being director ? father came from the same scottish island as myself so i loved the fact there was a real connection with this film the witty remarks throughout the film were great it was just brilliant so much that i bought the film as soon as it was released for ? and would recommend it to everyone to watch and the fly fishing was amazing really cried at the end it was so sad and you know what they say if you cry at a film it must have been good and this definitely was also ? to the two little boy's that played the ? of norman and paul they were just brilliant children are often left out of the ? list i think because the stars that play them all grown up are such a big profile for the whole film but these children are amazing and should be praised for what they have done don't you think the whole story was so lovely because it was true and was someone's life after all that was shared with us all\""
            ],
            "application/vnd.google.colaboratory.intrinsic+json": {
              "type": "string"
            }
          },
          "metadata": {},
          "execution_count": 8
        }
      ]
    },
    {
      "cell_type": "code",
      "source": [
        "train_data[0][:11]"
      ],
      "metadata": {
        "colab": {
          "base_uri": "https://localhost:8080/"
        },
        "id": "80tyVJ7AQTAD",
        "outputId": "3fcd9a22-29d3-47bd-a0de-1e7049d5e345"
      },
      "execution_count": 9,
      "outputs": [
        {
          "output_type": "execute_result",
          "data": {
            "text/plain": [
              "[1, 14, 22, 16, 43, 530, 973, 1622, 1385, 65, 458]"
            ]
          },
          "metadata": {},
          "execution_count": 9
        }
      ]
    },
    {
      "cell_type": "markdown",
      "metadata": {
        "id": "FQZ72xv4aXMz"
      },
      "source": [
        "### Preparing the data"
      ]
    },
    {
      "cell_type": "markdown",
      "metadata": {
        "id": "nInsbqJgaXMz"
      },
      "source": [
        "**Encoding the integer sequences via multi-hot encoding**\n",
        "\n",
        "Each review is different length. Format is no go as is.\n",
        "\n",
        "**Multi-hot encode** your lists to turn them into vectors of 0s and 1s. This would mean, for instance, turning the sequence [8, 5] into a 10,000-dimensional vector that would be all 0s except for indices 8 and 5, which would be 1s. Then you could use a Dense layer, capable of handling floating-point vector data, as the first layer in your model. \n",
        "\n",
        "Note that our train data size is now increased significantly!"
      ]
    },
    {
      "cell_type": "code",
      "source": [
        "#Note that length of reviews vary \n",
        "print(\"train_data[0]:\", len(train_data[0]))\n",
        "print(\"train_data[33]:\", len(train_data[33]))\n",
        "print(\"train_data[333]:\", len(train_data[333]))"
      ],
      "metadata": {
        "colab": {
          "base_uri": "https://localhost:8080/"
        },
        "id": "_roXIA4zYWpw",
        "outputId": "1ab184fb-92ca-4e9a-d49d-227e38469990"
      },
      "execution_count": 10,
      "outputs": [
        {
          "output_type": "stream",
          "name": "stdout",
          "text": [
            "train_data[0]: 218\n",
            "train_data[33]: 162\n",
            "train_data[333]: 114\n"
          ]
        }
      ]
    },
    {
      "cell_type": "code",
      "execution_count": 11,
      "metadata": {
        "id": "N3rVjWmOaXMz"
      },
      "outputs": [],
      "source": [
        "# Multi-hot encode your lists to turn them into vectors of 0s and 1s\n",
        "import numpy as np\n",
        "def vectorize_sequences(sequences, dimension=10000):\n",
        "    results = np.zeros((len(sequences), dimension))\n",
        "    for i, sequence in enumerate(sequences):\n",
        "        for j in sequence:\n",
        "            results[i, j] = 1.\n",
        "    return results\n",
        "x_train = vectorize_sequences(train_data)\n",
        "x_test = vectorize_sequences(test_data)"
      ]
    },
    {
      "cell_type": "code",
      "source": [
        "print(\"train_data:\", train_data.shape, \"\\nx_train:\", x_train.shape)"
      ],
      "metadata": {
        "colab": {
          "base_uri": "https://localhost:8080/"
        },
        "id": "B1g2-7ArXp2F",
        "outputId": "7aae7f88-edf9-4ed9-ad89-11b8960fdadb"
      },
      "execution_count": 12,
      "outputs": [
        {
          "output_type": "stream",
          "name": "stdout",
          "text": [
            "train_data: (25000,) \n",
            "x_train: (25000, 10000)\n"
          ]
        }
      ]
    },
    {
      "cell_type": "code",
      "execution_count": 13,
      "metadata": {
        "id": "E9XuP1BsaXMz",
        "colab": {
          "base_uri": "https://localhost:8080/"
        },
        "outputId": "acdae64f-8260-4b0b-9a11-1ca1c90c2535"
      },
      "outputs": [
        {
          "output_type": "execute_result",
          "data": {
            "text/plain": [
              "array([0., 1., 1., ..., 0., 0., 0.])"
            ]
          },
          "metadata": {},
          "execution_count": 13
        }
      ],
      "source": [
        "x_train[0]"
      ]
    },
    {
      "cell_type": "code",
      "execution_count": 14,
      "metadata": {
        "id": "ouvMUPETaXM0"
      },
      "outputs": [],
      "source": [
        "y_train = np.asarray(train_labels).astype(\"float32\")\n",
        "y_test = np.asarray(test_labels).astype(\"float32\")"
      ]
    },
    {
      "cell_type": "markdown",
      "metadata": {
        "id": "u0gBbMR5aXM0"
      },
      "source": [
        "### Building your model"
      ]
    },
    {
      "cell_type": "markdown",
      "metadata": {
        "id": "K-RmyT2xaXM0"
      },
      "source": [
        "**Model definition**\n",
        "\n",
        "What type of problem are we solving? \n",
        "\n",
        "(Binary) classification.\n",
        "\n",
        "Desnse layers with ReLu activation is a good start.\n"
      ]
    },
    {
      "cell_type": "code",
      "execution_count": 15,
      "metadata": {
        "id": "il2mIk06aXM0"
      },
      "outputs": [],
      "source": [
        "from tensorflow import keras\n",
        "from tensorflow.keras import layers\n",
        "\n",
        "model = keras.Sequential([\n",
        "    layers.Dense(16, activation=\"relu\"),\n",
        "    layers.Dropout(0.5),\n",
        "    layers.Dense(16, activation=\"relu\"),\n",
        "    layers.Dropout(0.5),\n",
        "    layers.Dense(1, activation=\"sigmoid\") #WHY 1 NEURON???\n",
        "    #A new output activation! What did we use last time? Why are we using a sigmoid?\n",
        "])"
      ]
    },
    {
      "cell_type": "markdown",
      "metadata": {
        "id": "1pczfk0LaXM0"
      },
      "source": [
        "**Compiling the model**\n",
        "\n",
        "Dealing with a binary classification problem and the output of your model is a probability (you end your model with a single-unit layer with a sigmoid activation), it’s best to use the binary_crossentropy loss. "
      ]
    },
    {
      "cell_type": "code",
      "execution_count": 16,
      "metadata": {
        "id": "tWM3WtWGaXM1"
      },
      "outputs": [],
      "source": [
        "model.compile(optimizer=\"rmsprop\",\n",
        "              loss=\"binary_crossentropy\",\n",
        "              metrics=[\"accuracy\"])"
      ]
    },
    {
      "cell_type": "markdown",
      "metadata": {
        "id": "bBSygD-DaXM1"
      },
      "source": [
        "### Validating your approach"
      ]
    },
    {
      "cell_type": "markdown",
      "metadata": {
        "id": "oU0oUeUQaXM1"
      },
      "source": [
        "**Setting aside a validation set**\n",
        "\n",
        "create a validation set by setting apart 10,000 samples from the original training data."
      ]
    },
    {
      "cell_type": "code",
      "execution_count": 17,
      "metadata": {
        "id": "xKn5t_KxaXM1"
      },
      "outputs": [],
      "source": [
        "x_val = x_train[:10000]\n",
        "partial_x_train = x_train[10000:]\n",
        "y_val = y_train[:10000]\n",
        "partial_y_train = y_train[10000:]"
      ]
    },
    {
      "cell_type": "markdown",
      "metadata": {
        "id": "sbTZM6yOaXM1"
      },
      "source": [
        "**Training your model**"
      ]
    },
    {
      "cell_type": "code",
      "execution_count": 18,
      "metadata": {
        "id": "AHxjGVt5aXM1",
        "colab": {
          "base_uri": "https://localhost:8080/"
        },
        "outputId": "22599bf3-0d83-4e68-cd14-6c5cde1ca0b5"
      },
      "outputs": [
        {
          "output_type": "stream",
          "name": "stdout",
          "text": [
            "Epoch 1/20\n",
            "30/30 [==============================] - 2s 44ms/step - loss: 0.6504 - accuracy: 0.6122 - val_loss: 0.5742 - val_accuracy: 0.8359\n",
            "Epoch 2/20\n",
            "30/30 [==============================] - 1s 32ms/step - loss: 0.5511 - accuracy: 0.7475 - val_loss: 0.4749 - val_accuracy: 0.8704\n",
            "Epoch 3/20\n",
            "30/30 [==============================] - 1s 32ms/step - loss: 0.4687 - accuracy: 0.8210 - val_loss: 0.3991 - val_accuracy: 0.8801\n",
            "Epoch 4/20\n",
            "30/30 [==============================] - 1s 32ms/step - loss: 0.4071 - accuracy: 0.8593 - val_loss: 0.3433 - val_accuracy: 0.8875\n",
            "Epoch 5/20\n",
            "30/30 [==============================] - 1s 32ms/step - loss: 0.3583 - accuracy: 0.8854 - val_loss: 0.3212 - val_accuracy: 0.8863\n",
            "Epoch 6/20\n",
            "30/30 [==============================] - 1s 36ms/step - loss: 0.3183 - accuracy: 0.9008 - val_loss: 0.3075 - val_accuracy: 0.8898\n",
            "Epoch 7/20\n",
            "30/30 [==============================] - 1s 32ms/step - loss: 0.2827 - accuracy: 0.9162 - val_loss: 0.2963 - val_accuracy: 0.8912\n",
            "Epoch 8/20\n",
            "30/30 [==============================] - 1s 32ms/step - loss: 0.2540 - accuracy: 0.9312 - val_loss: 0.2896 - val_accuracy: 0.8890\n",
            "Epoch 9/20\n",
            "30/30 [==============================] - 1s 32ms/step - loss: 0.2309 - accuracy: 0.9377 - val_loss: 0.3020 - val_accuracy: 0.8899\n",
            "Epoch 10/20\n",
            "30/30 [==============================] - 1s 32ms/step - loss: 0.2058 - accuracy: 0.9451 - val_loss: 0.3300 - val_accuracy: 0.8890\n",
            "Epoch 11/20\n",
            "30/30 [==============================] - 1s 36ms/step - loss: 0.1880 - accuracy: 0.9510 - val_loss: 0.3074 - val_accuracy: 0.8841\n",
            "Epoch 12/20\n",
            "30/30 [==============================] - 1s 32ms/step - loss: 0.1722 - accuracy: 0.9541 - val_loss: 0.3353 - val_accuracy: 0.8872\n",
            "Epoch 13/20\n",
            "30/30 [==============================] - 1s 32ms/step - loss: 0.1593 - accuracy: 0.9583 - val_loss: 0.3554 - val_accuracy: 0.8865\n",
            "Epoch 14/20\n",
            "30/30 [==============================] - 1s 32ms/step - loss: 0.1423 - accuracy: 0.9644 - val_loss: 0.3901 - val_accuracy: 0.8850\n",
            "Epoch 15/20\n",
            "30/30 [==============================] - 1s 32ms/step - loss: 0.1287 - accuracy: 0.9681 - val_loss: 0.3904 - val_accuracy: 0.8858\n",
            "Epoch 16/20\n",
            "30/30 [==============================] - 1s 32ms/step - loss: 0.1179 - accuracy: 0.9712 - val_loss: 0.4536 - val_accuracy: 0.8839\n",
            "Epoch 17/20\n",
            "30/30 [==============================] - 1s 32ms/step - loss: 0.1138 - accuracy: 0.9711 - val_loss: 0.4645 - val_accuracy: 0.8843\n",
            "Epoch 18/20\n",
            "30/30 [==============================] - 1s 32ms/step - loss: 0.1032 - accuracy: 0.9735 - val_loss: 0.5277 - val_accuracy: 0.8808\n",
            "Epoch 19/20\n",
            "30/30 [==============================] - 1s 33ms/step - loss: 0.0964 - accuracy: 0.9763 - val_loss: 0.5285 - val_accuracy: 0.8851\n",
            "Epoch 20/20\n",
            "30/30 [==============================] - 1s 32ms/step - loss: 0.0951 - accuracy: 0.9763 - val_loss: 0.5927 - val_accuracy: 0.8829\n"
          ]
        }
      ],
      "source": [
        "history = model.fit(partial_x_train,\n",
        "                    partial_y_train,\n",
        "                    epochs=20,\n",
        "                    batch_size=512,\n",
        "                    validation_data=(x_val, y_val))"
      ]
    },
    {
      "cell_type": "code",
      "execution_count": 19,
      "metadata": {
        "id": "X1U0MmSWaXM2",
        "outputId": "a4163044-5375-41ae-9808-8ce8b0672e89",
        "colab": {
          "base_uri": "https://localhost:8080/"
        }
      },
      "outputs": [
        {
          "output_type": "execute_result",
          "data": {
            "text/plain": [
              "dict_keys(['loss', 'accuracy', 'val_loss', 'val_accuracy'])"
            ]
          },
          "metadata": {},
          "execution_count": 19
        }
      ],
      "source": [
        "history_dict = history.history\n",
        "history_dict.keys()"
      ]
    },
    {
      "cell_type": "code",
      "source": [
        "print(model.summary())"
      ],
      "metadata": {
        "id": "j3zXGpc_prB2",
        "outputId": "5d891867-f5ee-48c7-c2cc-be954506892d",
        "colab": {
          "base_uri": "https://localhost:8080/"
        }
      },
      "execution_count": 20,
      "outputs": [
        {
          "output_type": "stream",
          "name": "stdout",
          "text": [
            "Model: \"sequential\"\n",
            "_________________________________________________________________\n",
            " Layer (type)                Output Shape              Param #   \n",
            "=================================================================\n",
            " dense (Dense)               (None, 16)                160016    \n",
            "                                                                 \n",
            " dropout (Dropout)           (None, 16)                0         \n",
            "                                                                 \n",
            " dense_1 (Dense)             (None, 16)                272       \n",
            "                                                                 \n",
            " dropout_1 (Dropout)         (None, 16)                0         \n",
            "                                                                 \n",
            " dense_2 (Dense)             (None, 1)                 17        \n",
            "                                                                 \n",
            "=================================================================\n",
            "Total params: 160,305\n",
            "Trainable params: 160,305\n",
            "Non-trainable params: 0\n",
            "_________________________________________________________________\n",
            "None\n"
          ]
        }
      ]
    },
    {
      "cell_type": "markdown",
      "metadata": {
        "id": "Exg0sDXHaXM2"
      },
      "source": [
        "**Plotting the training and validation loss**\n",
        "\n",
        "Importance of validating your model! "
      ]
    },
    {
      "cell_type": "code",
      "execution_count": 21,
      "metadata": {
        "id": "cMvs9nwCaXM2",
        "outputId": "9cafd8d3-1359-4ae1-c9c2-fb7996730887",
        "colab": {
          "base_uri": "https://localhost:8080/",
          "height": 295
        }
      },
      "outputs": [
        {
          "output_type": "display_data",
          "data": {
            "text/plain": [
              "<Figure size 432x288 with 1 Axes>"
            ],
            "image/png": "[encoded data removed]"
          },
          "metadata": {
            "needs_background": "light"
          }
        }
      ],
      "source": [
        "import matplotlib.pyplot as plt\n",
        "history_dict = history.history\n",
        "loss_values = history_dict[\"loss\"]\n",
        "val_loss_values = history_dict[\"val_loss\"]\n",
        "epochs = range(1, len(loss_values) + 1)\n",
        "plt.plot(epochs, loss_values, \"bo\", label=\"Training loss\")\n",
        "plt.plot(epochs, val_loss_values, \"b\", label=\"Validation loss\") \n",
        "plt.title(\"Training and validation loss\")\n",
        "plt.xlabel(\"Epochs\")\n",
        "plt.ylabel(\"Loss\")\n",
        "plt.legend()\n",
        "plt.show()"
      ]
    },
    {
      "cell_type": "markdown",
      "metadata": {
        "id": "MwitwaydaXM2"
      },
      "source": [
        "**Plotting the training and validation accuracy**"
      ]
    },
    {
      "cell_type": "code",
      "execution_count": 22,
      "metadata": {
        "id": "wzqSMyfWaXM2",
        "outputId": "c9fb34a4-2fb1-41bf-9135-34a2cc7981bc",
        "colab": {
          "base_uri": "https://localhost:8080/",
          "height": 295
        }
      },
      "outputs": [
        {
          "output_type": "display_data",
          "data": {
            "text/plain": [
              "<Figure size 432x288 with 1 Axes>"
            ],
            "image/png": "[encoded data removed]"
          },
          "metadata": {
            "needs_background": "light"
          }
        }
      ],
      "source": [
        "plt.clf()\n",
        "acc = history_dict[\"accuracy\"]\n",
        "val_acc = history_dict[\"val_accuracy\"]\n",
        "plt.plot(epochs, acc, \"bo\", label=\"Training acc\")\n",
        "plt.plot(epochs, val_acc, \"b\", label=\"Validation acc\")\n",
        "plt.title(\"Training and validation accuracy\")\n",
        "plt.xlabel(\"Epochs\")\n",
        "plt.ylabel(\"Accuracy\")\n",
        "plt.legend()\n",
        "plt.show()"
      ]
    },
    {
      "cell_type": "markdown",
      "source": [
        "As you can see, the training loss decreases with every epoch, and the training accuracy increases with every epoch. That’s what you would expect when running gradient-descent optimization—the quantity you’re trying to minimize should be less with every iteration. \n",
        "\n",
        "But that isn’t the case for the validation loss and accuracy: they seem to peak at the ?dort? epoch. This is an example of what we warned against earlier: a model that performs better on the training data isn’t necessarily a model that will do better on data it has never seen before. \n",
        "\n",
        "In precise terms, what you’re seeing is **overfitting**: after the ??? epoch, you’re overoptimizing on the training data, and you end up learning representations that are specific to the training data and don’t generalize to data outside of the training set."
      ],
      "metadata": {
        "id": "BoR7eITKaXpU"
      }
    },
    {
      "cell_type": "markdown",
      "metadata": {
        "id": "m6Zu6uLvaXM2"
      },
      "source": [
        "**Retraining a model from scratch**"
      ]
    },
    {
      "cell_type": "code",
      "execution_count": 23,
      "metadata": {
        "id": "YeSJoxCIaXM2",
        "outputId": "521662e9-c2b4-4aa4-a02c-81b1e3890d80",
        "colab": {
          "base_uri": "https://localhost:8080/"
        }
      },
      "outputs": [
        {
          "output_type": "stream",
          "name": "stdout",
          "text": [
            "Epoch 1/20\n",
            "49/49 [==============================] - 2s 35ms/step - loss: 0.4475 - accuracy: 0.8295 - val_loss: 0.2864 - val_accuracy: 0.9111\n",
            "Epoch 2/20\n",
            "49/49 [==============================] - 1s 28ms/step - loss: 0.2606 - accuracy: 0.9098 - val_loss: 0.1992 - val_accuracy: 0.9373\n",
            "Epoch 3/20\n",
            "49/49 [==============================] - 1s 28ms/step - loss: 0.2041 - accuracy: 0.9270 - val_loss: 0.1597 - val_accuracy: 0.9492\n",
            "Epoch 4/20\n",
            "49/49 [==============================] - 1s 27ms/step - loss: 0.1699 - accuracy: 0.9396 - val_loss: 0.1338 - val_accuracy: 0.9587\n",
            "Epoch 5/20\n",
            "49/49 [==============================] - 1s 27ms/step - loss: 0.1461 - accuracy: 0.9481 - val_loss: 0.1144 - val_accuracy: 0.9665\n",
            "Epoch 6/20\n",
            "49/49 [==============================] - 1s 28ms/step - loss: 0.1280 - accuracy: 0.9557 - val_loss: 0.1040 - val_accuracy: 0.9679\n",
            "Epoch 7/20\n",
            "49/49 [==============================] - 1s 28ms/step - loss: 0.1152 - accuracy: 0.9606 - val_loss: 0.0919 - val_accuracy: 0.9738\n",
            "Epoch 8/20\n",
            "49/49 [==============================] - 1s 28ms/step - loss: 0.1027 - accuracy: 0.9640 - val_loss: 0.0815 - val_accuracy: 0.9756\n",
            "Epoch 9/20\n",
            "49/49 [==============================] - 1s 28ms/step - loss: 0.0912 - accuracy: 0.9693 - val_loss: 0.0753 - val_accuracy: 0.9795\n",
            "Epoch 10/20\n",
            "49/49 [==============================] - 1s 28ms/step - loss: 0.0822 - accuracy: 0.9728 - val_loss: 0.0603 - val_accuracy: 0.9844\n",
            "Epoch 11/20\n",
            "49/49 [==============================] - 1s 28ms/step - loss: 0.0729 - accuracy: 0.9770 - val_loss: 0.0534 - val_accuracy: 0.9869\n",
            "Epoch 12/20\n",
            "49/49 [==============================] - 1s 29ms/step - loss: 0.0664 - accuracy: 0.9788 - val_loss: 0.0497 - val_accuracy: 0.9877\n",
            "Epoch 13/20\n",
            "49/49 [==============================] - 1s 28ms/step - loss: 0.0576 - accuracy: 0.9820 - val_loss: 0.0455 - val_accuracy: 0.9883\n",
            "Epoch 14/20\n",
            "49/49 [==============================] - 1s 28ms/step - loss: 0.0527 - accuracy: 0.9836 - val_loss: 0.0527 - val_accuracy: 0.9845\n",
            "Epoch 15/20\n",
            "49/49 [==============================] - 1s 28ms/step - loss: 0.0463 - accuracy: 0.9857 - val_loss: 0.0327 - val_accuracy: 0.9928\n",
            "Epoch 16/20\n",
            "49/49 [==============================] - 1s 28ms/step - loss: 0.0390 - accuracy: 0.9885 - val_loss: 0.0320 - val_accuracy: 0.9926\n",
            "Epoch 17/20\n",
            "49/49 [==============================] - 1s 28ms/step - loss: 0.0351 - accuracy: 0.9898 - val_loss: 0.0265 - val_accuracy: 0.9944\n",
            "Epoch 18/20\n",
            "49/49 [==============================] - 1s 28ms/step - loss: 0.0292 - accuracy: 0.9922 - val_loss: 0.0420 - val_accuracy: 0.9866\n",
            "Epoch 19/20\n",
            "49/49 [==============================] - 1s 28ms/step - loss: 0.0258 - accuracy: 0.9933 - val_loss: 0.0224 - val_accuracy: 0.9949\n",
            "Epoch 20/20\n",
            "49/49 [==============================] - 1s 28ms/step - loss: 0.0219 - accuracy: 0.9945 - val_loss: 0.0176 - val_accuracy: 0.9963\n"
          ]
        }
      ],
      "source": [
        "e = 20 #number of epochs to avoid overtraining\n",
        "# update!!\n",
        "\n",
        "model = keras.Sequential([\n",
        "    layers.Dense(16, activation=\"relu\"),\n",
        "    layers.Dense(16, activation=\"relu\"),\n",
        "    layers.Dense(1, activation=\"sigmoid\")\n",
        "])\n",
        "model.compile(optimizer=\"rmsprop\",\n",
        "              loss=\"binary_crossentropy\",\n",
        "              metrics=[\"accuracy\"])\n",
        "history_nod = model.fit(x_train, y_train, epochs=e, batch_size=512,                     validation_data=(x_val, y_val))"
      ]
    },
    {
      "cell_type": "code",
      "execution_count": 24,
      "metadata": {
        "id": "LFU0qizgaXM2"
      },
      "outputs": [],
      "source": [
        "# history_nod\n",
        "history_dict = history.history\n",
        "h2 = history_nod.history"
      ]
    },
    {
      "cell_type": "code",
      "source": [
        "plt.clf()\n",
        "acc2 = h2[\"accuracy\"]\n",
        "val_acc2 = h2[\"val_accuracy\"]\n",
        "plt.plot(epochs, acc2, \"bo\", label=\"Model:DropOut Training acc\")\n",
        "plt.plot(epochs, val_acc2, \"b\", label=\"Model:DropOut Validation acc\")\n",
        "plt.plot(epochs, acc, \"rx\", label=\"Model:Orig Training acc\")\n",
        "plt.plot(epochs, val_acc, \"r-.\", label=\"Model:Orig Validation acc\")\n",
        "plt.title(\"Training and validation accuracy\")\n",
        "plt.xlabel(\"Epochs\")\n",
        "plt.ylabel(\"Accuracy\")\n",
        "plt.legend()\n",
        "plt.show()"
      ],
      "metadata": {
        "id": "s24RUX8eiY4J",
        "outputId": "e96e831f-f84f-4e13-9a3c-3f1cce3df60b",
        "colab": {
          "base_uri": "https://localhost:8080/",
          "height": 295
        }
      },
      "execution_count": 25,
      "outputs": [
        {
          "output_type": "display_data",
          "data": {
            "text/plain": [
              "<Figure size 432x288 with 1 Axes>"
            ],
            "image/png": "[encoded data removed]"
          },
          "metadata": {
            "needs_background": "light"
          }
        }
      ]
    },
    {
      "cell_type": "code",
      "source": [
        "keras.utils.plot_model(model, \"classifier_with_shape_info.png\", show_shapes=True)"
      ],
      "metadata": {
        "id": "8SpcZTVIq81q",
        "outputId": "2c205a4a-66f8-4cf6-94b0-d9d66c7f917d",
        "colab": {
          "base_uri": "https://localhost:8080/",
          "height": 422
        }
      },
      "execution_count": 26,
      "outputs": [
        {
          "output_type": "execute_result",
          "data": {
            "text/plain": [
              "<IPython.core.display.Image object>"
            ],
            "image/png": "[encoded data removed]"
          },
          "metadata": {},
          "execution_count": 26
        }
      ]
    },
    {
      "cell_type": "markdown",
      "metadata": {
        "id": "het2u1m3syMF"
      },
      "source": [
        "### Further experiments\n",
        "\n",
        "*   Try setting dropout rate to values (0, 1)\n",
        "*   You used two representation layers before the final classification layer. Try using one or three representation layers, and see how doing so affects validation and test accuracy.\n",
        "*   Try using callbacks"
      ]
    },
    {
      "cell_type": "markdown",
      "metadata": {
        "id": "ZKiLbuT0syMF"
      },
      "source": [
        "## Summary\n",
        "\n",
        "- Text preprocessing\n",
        "    - Encoding/Decoding data to work with a neural network\n",
        "\n",
        "- Monitoring for overfitting\n",
        "    - Number of epochs to train to avoid Validation testing performance loss\n",
        "    - Early stopping and other callbacks\n",
        "    \n",
        "- Improve Model Generalization\n",
        "    - Regularization via Dropout"
      ]
    },
    {
      "cell_type": "markdown",
      "metadata": {
        "id": "zCctgkOCsyMF"
      },
      "source": [
        "## Future work\n",
        "\n",
        "What else we can do?\n",
        "- How to feature-ize text data / n-grams\n",
        "- Sequence modeling with CNN vs RNN/LSTM, transformers"
      ]
    }
  ],
  "metadata": {
    "colab": {
      "collapsed_sections": [],
      "name": "Copy of chapter05_Dropout.i",
      "provenance": [],
      "include_colab_link": true
    },
    "kernelspec": {
      "display_name": "Python 3",
      "language": "python",
      "name": "python3"
    },
    "language_info": {
      "codemirror_mode": {
        "name": "ipython",
        "version": 3
      },
      "file_extension": ".py",
      "mimetype": "text/x-python",
      "name": "python",
      "nbconvert_exporter": "python",
      "pygments_lexer": "ipython3",
      "version": "3.7.0"
    }
  },
  "nbformat": 4,
  "nbformat_minor": 0
}